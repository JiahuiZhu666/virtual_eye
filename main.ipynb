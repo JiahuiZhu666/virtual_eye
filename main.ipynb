{
 "cells": [
  {
   "cell_type": "code",
   "execution_count": 6,
   "metadata": {},
   "outputs": [],
   "source": [
    "import torch\n",
    "import torch.nn as nn\n",
    "import torch.nn.functional as F\n",
    "from sklearn.model_selection import train_test_split\n",
    "import numpy as np\n",
    "import torch.utils.data as Data\n",
    "import torch.distributed as dist\n",
    "import torch.multiprocessing as mp\n",
    "from torch.nn.parallel import DistributedDataParallel as DDP\n",
    "from model import dis_train_trans\n"
   ]
  },
  {
   "cell_type": "code",
   "execution_count": 10,
   "metadata": {},
   "outputs": [
    {
     "ename": "ProcessRaisedException",
     "evalue": "\n\n-- Process 1 terminated with the following error:\nTraceback (most recent call last):\n  File \"/ssd1/jeryyg/envs/jerry/lib/python3.9/site-packages/torch/multiprocessing/spawn.py\", line 69, in _wrap\n    fn(i, *args)\n  File \"/ssd1/jerry/nature/model.py\", line 95, in dis_train_trans\n    output = model_test(inputs, inputs)\n  File \"/ssd1/jeryyg/envs/jerry/lib/python3.9/site-packages/torch/nn/modules/module.py\", line 1130, in _call_impl\n    return forward_call(*input, **kwargs)\n  File \"/ssd1/jeryyg/envs/jerry/lib/python3.9/site-packages/torch/nn/parallel/distributed.py\", line 1008, in forward\n    output = self._run_ddp_forward(*inputs, **kwargs)\n  File \"/ssd1/jeryyg/envs/jerry/lib/python3.9/site-packages/torch/nn/parallel/distributed.py\", line 971, in _run_ddp_forward\n    return module_to_run(*inputs, **kwargs)\n  File \"/ssd1/jeryyg/envs/jerry/lib/python3.9/site-packages/torch/nn/modules/module.py\", line 1130, in _call_impl\n    return forward_call(*input, **kwargs)\n  File \"/ssd1/jerry/nature/model.py\", line 55, in forward\n    output = self.transformer(src_embedded, tgt_embedded)\n  File \"/ssd1/jeryyg/envs/jerry/lib/python3.9/site-packages/torch/nn/modules/module.py\", line 1130, in _call_impl\n    return forward_call(*input, **kwargs)\n  File \"/ssd1/jeryyg/envs/jerry/lib/python3.9/site-packages/torch/nn/modules/transformer.py\", line 145, in forward\n    memory = self.encoder(src, mask=src_mask, src_key_padding_mask=src_key_padding_mask)\n  File \"/ssd1/jeryyg/envs/jerry/lib/python3.9/site-packages/torch/nn/modules/module.py\", line 1130, in _call_impl\n    return forward_call(*input, **kwargs)\n  File \"/ssd1/jeryyg/envs/jerry/lib/python3.9/site-packages/torch/nn/modules/transformer.py\", line 238, in forward\n    output = mod(output, src_mask=mask, src_key_padding_mask=src_key_padding_mask)\n  File \"/ssd1/jeryyg/envs/jerry/lib/python3.9/site-packages/torch/nn/modules/module.py\", line 1130, in _call_impl\n    return forward_call(*input, **kwargs)\n  File \"/ssd1/jeryyg/envs/jerry/lib/python3.9/site-packages/torch/nn/modules/transformer.py\", line 463, in forward\n    x = self.norm1(x + self._sa_block(x, src_mask, src_key_padding_mask))\n  File \"/ssd1/jeryyg/envs/jerry/lib/python3.9/site-packages/torch/nn/modules/transformer.py\", line 471, in _sa_block\n    x = self.self_attn(x, x, x,\n  File \"/ssd1/jeryyg/envs/jerry/lib/python3.9/site-packages/torch/nn/modules/module.py\", line 1130, in _call_impl\n    return forward_call(*input, **kwargs)\n  File \"/ssd1/jeryyg/envs/jerry/lib/python3.9/site-packages/torch/nn/modules/activation.py\", line 1153, in forward\n    attn_output, attn_output_weights = F.multi_head_attention_forward(\n  File \"/ssd1/jeryyg/envs/jerry/lib/python3.9/site-packages/torch/nn/functional.py\", line 5179, in multi_head_attention_forward\n    attn_output, attn_output_weights = _scaled_dot_product_attention(q, k, v, attn_mask, dropout_p)\n  File \"/ssd1/jeryyg/envs/jerry/lib/python3.9/site-packages/torch/nn/functional.py\", line 4854, in _scaled_dot_product_attention\n    attn = torch.bmm(q, k.transpose(-2, -1))\nRuntimeError: CUDA out of memory. Tried to allocate 552.00 MiB (GPU 1; 31.75 GiB total capacity; 315.31 MiB already allocated; 492.50 MiB free; 386.00 MiB reserved in total by PyTorch) If reserved memory is >> allocated memory try setting max_split_size_mb to avoid fragmentation.  See documentation for Memory Management and PYTORCH_CUDA_ALLOC_CONF\n",
     "output_type": "error",
     "traceback": [
      "\u001b[0;31m---------------------------------------------------------------------------\u001b[0m",
      "\u001b[0;31mProcessRaisedException\u001b[0m                    Traceback (most recent call last)",
      "Cell \u001b[0;32mIn[10], line 7\u001b[0m\n\u001b[1;32m      4\u001b[0m     mp\u001b[39m.\u001b[39mspawn(dis_train_trans, args\u001b[39m=\u001b[39m(world_size,), nprocs\u001b[39m=\u001b[39mworld_size)\n\u001b[1;32m      6\u001b[0m \u001b[39mif\u001b[39;00m \u001b[39m__name__\u001b[39m \u001b[39m==\u001b[39m \u001b[39m'\u001b[39m\u001b[39m__main__\u001b[39m\u001b[39m'\u001b[39m:\n\u001b[0;32m----> 7\u001b[0m     main()\n",
      "Cell \u001b[0;32mIn[10], line 4\u001b[0m, in \u001b[0;36mmain\u001b[0;34m()\u001b[0m\n\u001b[1;32m      1\u001b[0m \u001b[39mdef\u001b[39;00m \u001b[39mmain\u001b[39m():\n\u001b[1;32m      3\u001b[0m     world_size  \u001b[39m=\u001b[39m torch\u001b[39m.\u001b[39mcuda\u001b[39m.\u001b[39mdevice_count()\n\u001b[0;32m----> 4\u001b[0m     mp\u001b[39m.\u001b[39;49mspawn(dis_train_trans, args\u001b[39m=\u001b[39;49m(world_size,), nprocs\u001b[39m=\u001b[39;49mworld_size)\n",
      "File \u001b[0;32m/ssd1/jeryyg/envs/jerry/lib/python3.9/site-packages/torch/multiprocessing/spawn.py:240\u001b[0m, in \u001b[0;36mspawn\u001b[0;34m(fn, args, nprocs, join, daemon, start_method)\u001b[0m\n\u001b[1;32m    236\u001b[0m     msg \u001b[39m=\u001b[39m (\u001b[39m'\u001b[39m\u001b[39mThis method only supports start_method=spawn (got: \u001b[39m\u001b[39m%s\u001b[39;00m\u001b[39m).\u001b[39m\u001b[39m\\n\u001b[39;00m\u001b[39m'\u001b[39m\n\u001b[1;32m    237\u001b[0m            \u001b[39m'\u001b[39m\u001b[39mTo use a different start_method use:\u001b[39m\u001b[39m\\n\u001b[39;00m\u001b[39m\\t\u001b[39;00m\u001b[39m\\t\u001b[39;00m\u001b[39m'\u001b[39m\n\u001b[1;32m    238\u001b[0m            \u001b[39m'\u001b[39m\u001b[39m torch.multiprocessing.start_processes(...)\u001b[39m\u001b[39m'\u001b[39m \u001b[39m%\u001b[39m start_method)\n\u001b[1;32m    239\u001b[0m     warnings\u001b[39m.\u001b[39mwarn(msg)\n\u001b[0;32m--> 240\u001b[0m \u001b[39mreturn\u001b[39;00m start_processes(fn, args, nprocs, join, daemon, start_method\u001b[39m=\u001b[39;49m\u001b[39m'\u001b[39;49m\u001b[39mspawn\u001b[39;49m\u001b[39m'\u001b[39;49m)\n",
      "File \u001b[0;32m/ssd1/jeryyg/envs/jerry/lib/python3.9/site-packages/torch/multiprocessing/spawn.py:198\u001b[0m, in \u001b[0;36mstart_processes\u001b[0;34m(fn, args, nprocs, join, daemon, start_method)\u001b[0m\n\u001b[1;32m    195\u001b[0m     \u001b[39mreturn\u001b[39;00m context\n\u001b[1;32m    197\u001b[0m \u001b[39m# Loop on join until it returns True or raises an exception.\u001b[39;00m\n\u001b[0;32m--> 198\u001b[0m \u001b[39mwhile\u001b[39;00m \u001b[39mnot\u001b[39;00m context\u001b[39m.\u001b[39;49mjoin():\n\u001b[1;32m    199\u001b[0m     \u001b[39mpass\u001b[39;00m\n",
      "File \u001b[0;32m/ssd1/jeryyg/envs/jerry/lib/python3.9/site-packages/torch/multiprocessing/spawn.py:160\u001b[0m, in \u001b[0;36mProcessContext.join\u001b[0;34m(self, timeout)\u001b[0m\n\u001b[1;32m    158\u001b[0m msg \u001b[39m=\u001b[39m \u001b[39m\"\u001b[39m\u001b[39m\\n\u001b[39;00m\u001b[39m\\n\u001b[39;00m\u001b[39m-- Process \u001b[39m\u001b[39m%d\u001b[39;00m\u001b[39m terminated with the following error:\u001b[39m\u001b[39m\\n\u001b[39;00m\u001b[39m\"\u001b[39m \u001b[39m%\u001b[39m error_index\n\u001b[1;32m    159\u001b[0m msg \u001b[39m+\u001b[39m\u001b[39m=\u001b[39m original_trace\n\u001b[0;32m--> 160\u001b[0m \u001b[39mraise\u001b[39;00m ProcessRaisedException(msg, error_index, failed_process\u001b[39m.\u001b[39mpid)\n",
      "\u001b[0;31mProcessRaisedException\u001b[0m: \n\n-- Process 1 terminated with the following error:\nTraceback (most recent call last):\n  File \"/ssd1/jeryyg/envs/jerry/lib/python3.9/site-packages/torch/multiprocessing/spawn.py\", line 69, in _wrap\n    fn(i, *args)\n  File \"/ssd1/jerry/nature/model.py\", line 95, in dis_train_trans\n    output = model_test(inputs, inputs)\n  File \"/ssd1/jeryyg/envs/jerry/lib/python3.9/site-packages/torch/nn/modules/module.py\", line 1130, in _call_impl\n    return forward_call(*input, **kwargs)\n  File \"/ssd1/jeryyg/envs/jerry/lib/python3.9/site-packages/torch/nn/parallel/distributed.py\", line 1008, in forward\n    output = self._run_ddp_forward(*inputs, **kwargs)\n  File \"/ssd1/jeryyg/envs/jerry/lib/python3.9/site-packages/torch/nn/parallel/distributed.py\", line 971, in _run_ddp_forward\n    return module_to_run(*inputs, **kwargs)\n  File \"/ssd1/jeryyg/envs/jerry/lib/python3.9/site-packages/torch/nn/modules/module.py\", line 1130, in _call_impl\n    return forward_call(*input, **kwargs)\n  File \"/ssd1/jerry/nature/model.py\", line 55, in forward\n    output = self.transformer(src_embedded, tgt_embedded)\n  File \"/ssd1/jeryyg/envs/jerry/lib/python3.9/site-packages/torch/nn/modules/module.py\", line 1130, in _call_impl\n    return forward_call(*input, **kwargs)\n  File \"/ssd1/jeryyg/envs/jerry/lib/python3.9/site-packages/torch/nn/modules/transformer.py\", line 145, in forward\n    memory = self.encoder(src, mask=src_mask, src_key_padding_mask=src_key_padding_mask)\n  File \"/ssd1/jeryyg/envs/jerry/lib/python3.9/site-packages/torch/nn/modules/module.py\", line 1130, in _call_impl\n    return forward_call(*input, **kwargs)\n  File \"/ssd1/jeryyg/envs/jerry/lib/python3.9/site-packages/torch/nn/modules/transformer.py\", line 238, in forward\n    output = mod(output, src_mask=mask, src_key_padding_mask=src_key_padding_mask)\n  File \"/ssd1/jeryyg/envs/jerry/lib/python3.9/site-packages/torch/nn/modules/module.py\", line 1130, in _call_impl\n    return forward_call(*input, **kwargs)\n  File \"/ssd1/jeryyg/envs/jerry/lib/python3.9/site-packages/torch/nn/modules/transformer.py\", line 463, in forward\n    x = self.norm1(x + self._sa_block(x, src_mask, src_key_padding_mask))\n  File \"/ssd1/jeryyg/envs/jerry/lib/python3.9/site-packages/torch/nn/modules/transformer.py\", line 471, in _sa_block\n    x = self.self_attn(x, x, x,\n  File \"/ssd1/jeryyg/envs/jerry/lib/python3.9/site-packages/torch/nn/modules/module.py\", line 1130, in _call_impl\n    return forward_call(*input, **kwargs)\n  File \"/ssd1/jeryyg/envs/jerry/lib/python3.9/site-packages/torch/nn/modules/activation.py\", line 1153, in forward\n    attn_output, attn_output_weights = F.multi_head_attention_forward(\n  File \"/ssd1/jeryyg/envs/jerry/lib/python3.9/site-packages/torch/nn/functional.py\", line 5179, in multi_head_attention_forward\n    attn_output, attn_output_weights = _scaled_dot_product_attention(q, k, v, attn_mask, dropout_p)\n  File \"/ssd1/jeryyg/envs/jerry/lib/python3.9/site-packages/torch/nn/functional.py\", line 4854, in _scaled_dot_product_attention\n    attn = torch.bmm(q, k.transpose(-2, -1))\nRuntimeError: CUDA out of memory. Tried to allocate 552.00 MiB (GPU 1; 31.75 GiB total capacity; 315.31 MiB already allocated; 492.50 MiB free; 386.00 MiB reserved in total by PyTorch) If reserved memory is >> allocated memory try setting max_split_size_mb to avoid fragmentation.  See documentation for Memory Management and PYTORCH_CUDA_ALLOC_CONF\n"
     ]
    }
   ],
   "source": [
    "def main():\n",
    "\n",
    "    world_size  = torch.cuda.device_count()\n",
    "    mp.spawn(dis_train_trans, args=(world_size,), nprocs=world_size)\n",
    "\n",
    "if __name__ == '__main__':\n",
    "    main()"
   ]
  }
 ],
 "metadata": {
  "kernelspec": {
   "display_name": "jerry",
   "language": "python",
   "name": "python3"
  },
  "language_info": {
   "codemirror_mode": {
    "name": "ipython",
    "version": 3
   },
   "file_extension": ".py",
   "mimetype": "text/x-python",
   "name": "python",
   "nbconvert_exporter": "python",
   "pygments_lexer": "ipython3",
   "version": "3.9.0"
  },
  "orig_nbformat": 4
 },
 "nbformat": 4,
 "nbformat_minor": 2
}

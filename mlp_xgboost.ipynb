{
 "cells": [
  {
   "cell_type": "code",
   "execution_count": 1,
   "metadata": {},
   "outputs": [],
   "source": [
    "import torch\n",
    "import torch.nn.functional as F\n",
    "from sklearn.metrics import mean_absolute_error\n",
    "from torch import nn\n",
    "from torch.optim import SGD\n",
    "import torch.utils.data as Data\n",
    "from sklearn.model_selection import train_test_split\n",
    "import pandas as pd\n",
    "import numpy as np\n",
    "import matplotlib.pyplot as plt\n",
    "from sklearn.preprocessing import StandardScaler\n",
    "from sklearn.preprocessing import MinMaxScaler\n",
    "from sklearn.decomposition import PCA\n",
    "import scipy\n",
    "import xgboost as xgb\n",
    "import math"
   ]
  },
  {
   "cell_type": "code",
   "execution_count": 2,
   "metadata": {},
   "outputs": [],
   "source": [
    "train = np.load(\"./data_nature/down_cell_data_10.npy\")\n",
    "train = train[:,:]\n",
    "label = np.load(\"./data_nature/label_chirp.npy\")\n",
    "label = label.T[:,:]\n"
   ]
  },
  {
   "cell_type": "code",
   "execution_count": 3,
   "metadata": {},
   "outputs": [],
   "source": [
    "X_train, X_test, y_train, y_test = train_test_split(train, label, test_size=0.2, random_state=0)\n",
    "\n",
    "X_train_final = torch.from_numpy(X_train.astype(np.float32))\n",
    "y_train_final = torch.from_numpy(y_train.astype(np.float32))\n",
    "X_test_final = torch.from_numpy(X_test.astype(np.float32))\n",
    "y_test_final = torch.from_numpy(y_test.astype(np.float32))\n",
    "\n",
    "train_data = Data.TensorDataset(X_train_final, y_train_final)\n",
    "test_data = Data.TensorDataset(X_test_final, y_test_final)\n",
    "train_loader = Data.DataLoader(dataset=train_data, batch_size=32,\n",
    "                               shuffle=True, num_workers=0)\n",
    "test_loader = Data.DataLoader(dataset=test_data, batch_size=32,\n",
    "                               shuffle=True, num_workers=0)"
   ]
  },
  {
   "attachments": {},
   "cell_type": "markdown",
   "metadata": {},
   "source": [
    "### MLP"
   ]
  },
  {
   "cell_type": "code",
   "execution_count": 4,
   "metadata": {},
   "outputs": [],
   "source": [
    "### Regular model\n",
    "\n",
    "class Re_ChirpMLP(nn.Module):\n",
    "\n",
    "    def __init__(self, n_inputs):\n",
    "        super(Re_ChirpMLP, self).__init__()\n",
    "        self.fc1 = nn.Linear(n_inputs, out_features=3000, bias=True)\n",
    "        self.fc2 = nn.Linear(3000, 2000)\n",
    "        self.dropout = nn.Dropout(0.5)\n",
    "        self.fc3 = nn.Linear(2000, 1500)\n",
    "        self.fc4 = nn.Linear(1500, 800)\n",
    "        self.fc5 = nn.Linear(800, 400)\n",
    "        self.predict = nn.Linear(400, 249)\n",
    "\n",
    "    def forward(self, x):\n",
    "        x = self.fc1(x)\n",
    "        x = self.fc2(x)\n",
    "        x = self.fc3(x)\n",
    "        x = self.fc4(x)\n",
    "        x = torch.tanh(self.fc5(x))\n",
    "        outputs = self.predict(x)\n",
    "        return outputs"
   ]
  },
  {
   "cell_type": "code",
   "execution_count": 5,
   "metadata": {},
   "outputs": [],
   "source": [
    "### Larger model\n",
    "class Large_ChirpMLP(nn.Module):\n",
    "\n",
    "    def __init__(self, n_inputs):\n",
    "        super(Large_ChirpMLP, self).__init__()\n",
    "        self.dropout = nn.Dropout(0.5)\n",
    "        self.fc1 = nn.Linear(n_inputs, out_features=1250, bias=True)\n",
    "        self.fc2 = nn.Linear(1250, 1000)\n",
    "        self.fc3 = nn.Linear(1000, 750)\n",
    "        self.fc4 = nn.Linear(750, 500)\n",
    "        self.fc5 = nn.Linear(500, 350)\n",
    "        self.predict = nn.Linear(350, 249)\n",
    "\n",
    "    def forward(self, x):\n",
    "        x = self.fc1(x)\n",
    "        x = self.dropout(x)\n",
    "        x = self.fc2(x)\n",
    "        x = self.dropout(x)\n",
    "        x = self.fc3(x)\n",
    "        x = self.dropout(x)\n",
    "        x = self.fc4(x)\n",
    "        x = self.dropout(x)\n",
    "        x = torch.tanh(self.fc5(x))\n",
    "        outputs = self.predict(x)\n",
    "        return outputs"
   ]
  },
  {
   "cell_type": "code",
   "execution_count": 6,
   "metadata": {},
   "outputs": [],
   "source": [
    "device = torch.device(\"cuda\" if torch.cuda.is_available() else \"cpu\")\n",
    "model= Re_ChirpMLP(3199).to(device)\n",
    "\n",
    "num_epochs = 30\n",
    "optimizer = torch.optim.SGD(model.parameters(), lr=0.0001)\n",
    "loss_func = nn.MSELoss()\n",
    "train_loss_all = []\n",
    "test_loss_all = []"
   ]
  },
  {
   "cell_type": "code",
   "execution_count": 7,
   "metadata": {},
   "outputs": [
    {
     "name": "stdout",
     "output_type": "stream",
     "text": [
      "Epoch [1/30], Train Loss: 8.1804, Test Loss: 7.0098\n",
      "Epoch [2/30], Train Loss: 6.7569, Test Loss: 6.3881\n",
      "Epoch [3/30], Train Loss: 6.2297, Test Loss: 6.0121\n",
      "Epoch [4/30], Train Loss: 5.8760, Test Loss: 5.6757\n",
      "Epoch [5/30], Train Loss: 5.5675, Test Loss: 5.4023\n",
      "Epoch [6/30], Train Loss: 5.2901, Test Loss: 5.1442\n",
      "Epoch [7/30], Train Loss: 5.0749, Test Loss: 4.9566\n",
      "Epoch [8/30], Train Loss: 4.8879, Test Loss: 4.7916\n",
      "Epoch [9/30], Train Loss: 4.7306, Test Loss: 4.6452\n",
      "Epoch [10/30], Train Loss: 4.5959, Test Loss: 4.4906\n",
      "Epoch [11/30], Train Loss: 4.4732, Test Loss: 4.3997\n",
      "Epoch [12/30], Train Loss: 4.3866, Test Loss: 4.3484\n",
      "Epoch [13/30], Train Loss: 4.3137, Test Loss: 4.2532\n",
      "Epoch [14/30], Train Loss: 4.2492, Test Loss: 4.2037\n",
      "Epoch [15/30], Train Loss: 4.1967, Test Loss: 4.1428\n",
      "Epoch [16/30], Train Loss: 4.1499, Test Loss: 4.1091\n",
      "Epoch [17/30], Train Loss: 4.1112, Test Loss: 4.0656\n",
      "Epoch [18/30], Train Loss: 4.0764, Test Loss: 4.0375\n",
      "Epoch [19/30], Train Loss: 4.0487, Test Loss: 4.0033\n",
      "Epoch [20/30], Train Loss: 4.0243, Test Loss: 3.9811\n",
      "Epoch [21/30], Train Loss: 4.0033, Test Loss: 3.9824\n",
      "Epoch [22/30], Train Loss: 3.9853, Test Loss: 3.9464\n",
      "Epoch [23/30], Train Loss: 3.9698, Test Loss: 3.9310\n",
      "Epoch [24/30], Train Loss: 3.9571, Test Loss: 3.9222\n",
      "Epoch [25/30], Train Loss: 3.9455, Test Loss: 3.9196\n",
      "Epoch [26/30], Train Loss: 3.9363, Test Loss: 3.8996\n",
      "Epoch [27/30], Train Loss: 3.9281, Test Loss: 3.8958\n",
      "Epoch [28/30], Train Loss: 3.9216, Test Loss: 3.9220\n",
      "Epoch [29/30], Train Loss: 3.9146, Test Loss: 3.9106\n",
      "Epoch [30/30], Train Loss: 3.9100, Test Loss: 3.8784\n"
     ]
    }
   ],
   "source": [
    "### Training Process: 1. Regular model\n",
    "###                   2. Large model\n",
    "###                   3. Small model\n",
    "\n",
    "# for epoch in range(300):\n",
    "#     epoch_loss = 0.0\n",
    "#     train_total_out = []\n",
    "#     for step, (inputs, targets) in enumerate(train_loader):\n",
    "#         inputs, targets = inputs.to(device), targets.to(device)\n",
    "#         optimizer_re.zero_grad()\n",
    "#         output = model_re(inputs)\n",
    "#         loss = loss_func(output, targets)\n",
    "#         loss.backward()\n",
    "#         optimizer_re.step()\n",
    "#         epoch_loss += loss.item()\n",
    "#         train_total_out.append(output)\n",
    "#         print(f'Epoch [{epoch+1}/{300}], Loss: {loss.item()}')\n",
    "        \n",
    "#     avg_epoch_loss = epoch_loss / len(train_loader)\n",
    "#     train_loss_re.append(avg_epoch_loss) \n",
    "for epoch in range(num_epochs):\n",
    "    \n",
    "    model.train()\n",
    "    train_loss = 0.0\n",
    "    for step, (inputs, targets) in enumerate(train_loader):\n",
    "        inputs, targets = inputs.to(device), targets.to(device)\n",
    "\n",
    "        outputs = model(inputs)\n",
    "        loss = loss_func(outputs, targets)\n",
    "\n",
    "        optimizer.zero_grad()\n",
    "        loss.backward()\n",
    "        optimizer.step()\n",
    "\n",
    "        train_loss += loss.item() * inputs.size(0)\n",
    "\n",
    "    train_loss /= len(train_loader)\n",
    "    train_loss_all.append(train_loss) \n",
    "################################################################\n",
    "    model.eval()\n",
    "    test_loss = 0.0\n",
    "    with torch.no_grad():\n",
    "        for step, (inputs, targets) in enumerate(test_loader):\n",
    "            inputs, targets = inputs.to(device), targets.to(device)\n",
    "            outputs = model(inputs)\n",
    "            loss = loss_func(outputs, targets)\n",
    "\n",
    "            test_loss += loss.item() * inputs.size(0)\n",
    "\n",
    "    test_loss /= len(test_loader)\n",
    "    test_loss_all.append(test_loss) \n",
    "\n",
    "    print(f'Epoch [{epoch+1}/{num_epochs}], Train Loss: {train_loss:.4f}, Test Loss: {test_loss:.4f}')\n"
   ]
  },
  {
   "cell_type": "code",
   "execution_count": 8,
   "metadata": {},
   "outputs": [
    {
     "data": {
      "image/png": "[encoded data removed]",
      "text/plain": [
       "<Figure size 640x480 with 1 Axes>"
      ]
     },
     "metadata": {},
     "output_type": "display_data"
    }
   ],
   "source": [
    "### Plot the loss of three models\n",
    "\n",
    "plt.plot(train_loss_all, label='train_loss')\n",
    "plt.plot(test_loss_all, label='test_loss')\n",
    "plt.legend()\n",
    "plt.xlabel('Epoch')\n",
    "plt.ylabel('Loss')\n",
    "plt.show()"
   ]
  },
  {
   "cell_type": "code",
   "execution_count": 9,
   "metadata": {},
   "outputs": [],
   "source": [
    "### output the prediction\n",
    "\n",
    "y_pre_re = model(X_test_final.to(device))\n",
    "y_pre_re = y_pre_re.cpu().data.numpy()\n"
   ]
  },
  {
   "cell_type": "code",
   "execution_count": 10,
   "metadata": {},
   "outputs": [],
   "source": [
    "### save the results for visualization\n",
    "\n",
    "scipy.io.savemat('./down_data/model_re_v5_3199.mat', {'model_re_v5_3199':y_pre_re.T})\n",
    "# scipy.io.savemat('./data_nature/model_lr.mat', {'model_lr':y_pre_lr.T})\n",
    "# scipy.io.savemat('./data_nature/model_sm.mat', {'model_sm':y_pre_sm.T})\n",
    "scipy.io.savemat('./down_data/test_3model_v5.mat', {'test_3model_v5':y_test.T})"
   ]
  },
  {
   "attachments": {},
   "cell_type": "markdown",
   "metadata": {},
   "source": [
    "### XGBOOST"
   ]
  },
  {
   "cell_type": "code",
   "execution_count": 23,
   "metadata": {},
   "outputs": [
    {
     "data": {
      "text/html": [
       "<style>#sk-container-id-2 {color: black;background-color: white;}#sk-container-id-2 pre{padding: 0;}#sk-container-id-2 div.sk-toggleable {background-color: white;}#sk-container-id-2 label.sk-toggleable__label {cursor: pointer;display: block;width: 100%;margin-bottom: 0;padding: 0.3em;box-sizing: border-box;text-align: center;}#sk-container-id-2 label.sk-toggleable__label-arrow:before {content: \"▸\";float: left;margin-right: 0.25em;color: #696969;}#sk-container-id-2 label.sk-toggleable__label-arrow:hover:before {color: black;}#sk-container-id-2 div.sk-estimator:hover label.sk-toggleable__label-arrow:before {color: black;}#sk-container-id-2 div.sk-toggleable__content {max-height: 0;max-width: 0;overflow: hidden;text-align: left;background-color: #f0f8ff;}#sk-container-id-2 div.sk-toggleable__content pre {margin: 0.2em;color: black;border-radius: 0.25em;background-color: #f0f8ff;}#sk-container-id-2 input.sk-toggleable__control:checked~div.sk-toggleable__content {max-height: 200px;max-width: 100%;overflow: auto;}#sk-container-id-2 input.sk-toggleable__control:checked~label.sk-toggleable__label-arrow:before {content: \"▾\";}#sk-container-id-2 div.sk-estimator input.sk-toggleable__control:checked~label.sk-toggleable__label {background-color: #d4ebff;}#sk-container-id-2 div.sk-label input.sk-toggleable__control:checked~label.sk-toggleable__label {background-color: #d4ebff;}#sk-container-id-2 input.sk-hidden--visually {border: 0;clip: rect(1px 1px 1px 1px);clip: rect(1px, 1px, 1px, 1px);height: 1px;margin: -1px;overflow: hidden;padding: 0;position: absolute;width: 1px;}#sk-container-id-2 div.sk-estimator {font-family: monospace;background-color: #f0f8ff;border: 1px dotted black;border-radius: 0.25em;box-sizing: border-box;margin-bottom: 0.5em;}#sk-container-id-2 div.sk-estimator:hover {background-color: #d4ebff;}#sk-container-id-2 div.sk-parallel-item::after {content: \"\";width: 100%;border-bottom: 1px solid gray;flex-grow: 1;}#sk-container-id-2 div.sk-label:hover label.sk-toggleable__label {background-color: #d4ebff;}#sk-container-id-2 div.sk-serial::before {content: \"\";position: absolute;border-left: 1px solid gray;box-sizing: border-box;top: 0;bottom: 0;left: 50%;z-index: 0;}#sk-container-id-2 div.sk-serial {display: flex;flex-direction: column;align-items: center;background-color: white;padding-right: 0.2em;padding-left: 0.2em;position: relative;}#sk-container-id-2 div.sk-item {position: relative;z-index: 1;}#sk-container-id-2 div.sk-parallel {display: flex;align-items: stretch;justify-content: center;background-color: white;position: relative;}#sk-container-id-2 div.sk-item::before, #sk-container-id-2 div.sk-parallel-item::before {content: \"\";position: absolute;border-left: 1px solid gray;box-sizing: border-box;top: 0;bottom: 0;left: 50%;z-index: -1;}#sk-container-id-2 div.sk-parallel-item {display: flex;flex-direction: column;z-index: 1;position: relative;background-color: white;}#sk-container-id-2 div.sk-parallel-item:first-child::after {align-self: flex-end;width: 50%;}#sk-container-id-2 div.sk-parallel-item:last-child::after {align-self: flex-start;width: 50%;}#sk-container-id-2 div.sk-parallel-item:only-child::after {width: 0;}#sk-container-id-2 div.sk-dashed-wrapped {border: 1px dashed gray;margin: 0 0.4em 0.5em 0.4em;box-sizing: border-box;padding-bottom: 0.4em;background-color: white;}#sk-container-id-2 div.sk-label label {font-family: monospace;font-weight: bold;display: inline-block;line-height: 1.2em;}#sk-container-id-2 div.sk-label-container {text-align: center;}#sk-container-id-2 div.sk-container {/* jupyter's `normalize.less` sets `[hidden] { display: none; }` but bootstrap.min.css set `[hidden] { display: none !important; }` so we also need the `!important` here to be able to override the default hidden behavior on the sphinx rendered scikit-learn.org. See: https://github.com/scikit-learn/scikit-learn/issues/21755 */display: inline-block !important;position: relative;}#sk-container-id-2 div.sk-text-repr-fallback {display: none;}</style><div id=\"sk-container-id-2\" class=\"sk-top-container\"><div class=\"sk-text-repr-fallback\"><pre>XGBRegressor(base_score=None, booster=None, callbacks=None,\n",
       "             colsample_bylevel=None, colsample_bynode=None,\n",
       "             colsample_bytree=None, early_stopping_rounds=None,\n",
       "             enable_categorical=False, eval_metric=None, feature_types=None,\n",
       "             gamma=None, gpu_id=None, grow_policy=None, importance_type=None,\n",
       "             interaction_constraints=None, learning_rate=None, max_bin=None,\n",
       "             max_cat_threshold=None, max_cat_to_onehot=None,\n",
       "             max_delta_step=None, max_depth=None, max_leaves=None,\n",
       "             min_child_weight=None, missing=nan, monotone_constraints=None,\n",
       "             n_estimators=100, n_jobs=None, num_parallel_tree=None,\n",
       "             predictor=None, random_state=None, ...)</pre><b>In a Jupyter environment, please rerun this cell to show the HTML representation or trust the notebook. <br />On GitHub, the HTML representation is unable to render, please try loading this page with nbviewer.org.</b></div><div class=\"sk-container\" hidden><div class=\"sk-item\"><div class=\"sk-estimator sk-toggleable\"><input class=\"sk-toggleable__control sk-hidden--visually\" id=\"sk-estimator-id-2\" type=\"checkbox\" checked><label for=\"sk-estimator-id-2\" class=\"sk-toggleable__label sk-toggleable__label-arrow\">XGBRegressor</label><div class=\"sk-toggleable__content\"><pre>XGBRegressor(base_score=None, booster=None, callbacks=None,\n",
       "             colsample_bylevel=None, colsample_bynode=None,\n",
       "             colsample_bytree=None, early_stopping_rounds=None,\n",
       "             enable_categorical=False, eval_metric=None, feature_types=None,\n",
       "             gamma=None, gpu_id=None, grow_policy=None, importance_type=None,\n",
       "             interaction_constraints=None, learning_rate=None, max_bin=None,\n",
       "             max_cat_threshold=None, max_cat_to_onehot=None,\n",
       "             max_delta_step=None, max_depth=None, max_leaves=None,\n",
       "             min_child_weight=None, missing=nan, monotone_constraints=None,\n",
       "             n_estimators=100, n_jobs=None, num_parallel_tree=None,\n",
       "             predictor=None, random_state=None, ...)</pre></div></div></div></div></div>"
      ],
      "text/plain": [
       "XGBRegressor(base_score=None, booster=None, callbacks=None,\n",
       "             colsample_bylevel=None, colsample_bynode=None,\n",
       "             colsample_bytree=None, early_stopping_rounds=None,\n",
       "             enable_categorical=False, eval_metric=None, feature_types=None,\n",
       "             gamma=None, gpu_id=None, grow_policy=None, importance_type=None,\n",
       "             interaction_constraints=None, learning_rate=None, max_bin=None,\n",
       "             max_cat_threshold=None, max_cat_to_onehot=None,\n",
       "             max_delta_step=None, max_depth=None, max_leaves=None,\n",
       "             min_child_weight=None, missing=nan, monotone_constraints=None,\n",
       "             n_estimators=100, n_jobs=None, num_parallel_tree=None,\n",
       "             predictor=None, random_state=None, ...)"
      ]
     },
     "execution_count": 23,
     "metadata": {},
     "output_type": "execute_result"
    }
   ],
   "source": [
    "model = xgb.XGBRegressor()\n",
    "model.fit(X_train_final, y_train_final)"
   ]
  },
  {
   "cell_type": "code",
   "execution_count": 24,
   "metadata": {},
   "outputs": [],
   "source": [
    "y_pred = model.predict(X_test_final)\n"
   ]
  },
  {
   "cell_type": "code",
   "execution_count": 25,
   "metadata": {},
   "outputs": [
    {
     "data": {
      "text/plain": [
       "(1500, 249)"
      ]
     },
     "execution_count": 25,
     "metadata": {},
     "output_type": "execute_result"
    }
   ],
   "source": [
    "y_pred.shape"
   ]
  },
  {
   "cell_type": "code",
   "execution_count": 26,
   "metadata": {},
   "outputs": [],
   "source": [
    "scipy.io.savemat('./down_data/xgb_down_data_v2.mat', {'xgb_down_data_v2':y_pred.T})"
   ]
  }
 ],
 "metadata": {
  "kernelspec": {
   "display_name": "unidiffuser",
   "language": "python",
   "name": "python3"
  },
  "language_info": {
   "codemirror_mode": {
    "name": "ipython",
    "version": 3
   },
   "file_extension": ".py",
   "mimetype": "text/x-python",
   "name": "python",
   "nbconvert_exporter": "python",
   "pygments_lexer": "ipython3",
   "version": "3.9.0"
  },
  "orig_nbformat": 4
 },
 "nbformat": 4,
 "nbformat_minor": 2
}
